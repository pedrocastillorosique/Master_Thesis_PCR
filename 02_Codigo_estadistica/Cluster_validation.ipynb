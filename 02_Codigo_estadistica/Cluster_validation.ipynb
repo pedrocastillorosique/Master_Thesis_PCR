{
 "cells": [
  {
   "cell_type": "code",
   "execution_count": 1,
   "id": "2b44bed5",
   "metadata": {},
   "outputs": [
    {
     "name": "stderr",
     "output_type": "stream",
     "text": [
      "c:\\Users\\pcastillor\\AppData\\Local\\anaconda3\\envs\\stKeep\\lib\\site-packages\\tqdm\\auto.py:21: TqdmWarning: IProgress not found. Please update jupyter and ipywidgets. See https://ipywidgets.readthedocs.io/en/stable/user_install.html\n",
      "  from .autonotebook import tqdm as notebook_tqdm\n"
     ]
    }
   ],
   "source": [
    "# Librerías\n",
    "\n",
    "import matplotlib.pyplot as plt\n",
    "import pandas as pd\n",
    "import seaborn as sns\n",
    "import scanpy as sc\n",
    "import statsmodels.api as sm\n",
    "import os\n",
    "\n",
    "from scipy.stats import shapiro\n",
    "from sklearn.metrics import adjusted_rand_score\n",
    "from statsmodels.formula.api import ols\n",
    "from statsmodels.stats.multicomp import pairwise_tukeyhsd"
   ]
  },
  {
   "cell_type": "markdown",
   "id": "d6555fae",
   "metadata": {},
   "source": [
    "Evaluar cada algoritmo de clustering"
   ]
  },
  {
   "cell_type": "code",
   "execution_count": null,
   "id": "21321fa9",
   "metadata": {},
   "outputs": [],
   "source": [
    "val_df = pd.DataFrame(columns=[\"Lovain\", \"BayesSpace\", \"conGI\",\"graphST\", \"stkeep\"], \n",
    "                      index= [\"151507\", \"151508\", \"151509\", \"151510\", \"151669\", \"151670\", \"151671\", \"151672\", \n",
    "                              \"151673\", \"151674\", \"151675\", \"151676\"])"
   ]
  },
  {
   "cell_type": "code",
   "execution_count": null,
   "id": "78fb4842",
   "metadata": {},
   "outputs": [],
   "source": [
    "# Tenemos que leer el objeto anndata para cada muestra. Se puede almacenar cada ARI como un data frame con columnas los métodos de clustering y filas las muestras. \n",
    "# Los métodos de clustering son: BayesSpace conGI, graphST, Louvain, stkeep \n",
    "method = 'Louvain' # \"Lovain\", \"BayesSpace\", \"conGI\",\"graphST\", \"stkeep\"\n",
    "eval_path = rf\"...\\DLPFC\\BayesSpace\"\n",
    "\n",
    "for i in os.listdir(eval_path):\n",
    "\n",
    "        # Leer archivo: \n",
    "        a = sc.read_h5ad(f\"...\\DLPFC\\{method}\\{i}.h5ad\")\n",
    "\n",
    "        # Eliminamos los valores nan\n",
    "        labels_true = a.obs['Region'].dropna()\n",
    "        labels_pred = a.obs[f\"mclust\"].dropna()\n",
    "      \n",
    "        shared_idx = labels_true.index.intersection(labels_pred.index)\n",
    "        \n",
    "        labels_true = labels_true.loc[shared_idx]\n",
    "        labels_pred = labels_pred.loc[shared_idx]\n",
    "\n",
    "        # Función de evaluación.\n",
    "        ari = adjusted_rand_score(labels_true=labels_true, labels_pred=labels_pred)\n",
    "        val_df.loc[[i.split('.')[0]], method] = ari"
   ]
  },
  {
   "cell_type": "code",
   "execution_count": 26,
   "id": "73117ded",
   "metadata": {},
   "outputs": [
    {
     "data": {
      "application/vnd.microsoft.datawrangler.viewer.v0+json": {
       "columns": [
        {
         "name": "index",
         "rawType": "int64",
         "type": "integer"
        },
        {
         "name": "BayesSpace",
         "rawType": "float64",
         "type": "float"
        },
        {
         "name": "conGI",
         "rawType": "float64",
         "type": "float"
        },
        {
         "name": "graphST",
         "rawType": "float64",
         "type": "float"
        },
        {
         "name": "Louvain",
         "rawType": "float64",
         "type": "float"
        },
        {
         "name": "stkeep",
         "rawType": "float64",
         "type": "float"
        }
       ],
       "ref": "e41d82aa-720f-44fb-8fe7-4169949e8c97",
       "rows": [
        [
         "151507",
         "0.5121582624713652",
         "0.1788648692367373",
         "0.4334680395349568",
         "0.33092911188872",
         "0.3946983737295206"
        ],
        [
         "151508",
         "0.3646631297097953",
         "0.4019635951049358",
         "0.4958378006337235",
         "0.3399386916545846",
         "0.4112647144182885"
        ],
        [
         "151509",
         "0.4682277186480557",
         "0.236524458653744",
         "0.4655890868219359",
         "0.2146694281396216",
         "0.1609618193178482"
        ],
        [
         "151510",
         "0.4684651844268237",
         "0.2652383575634368",
         "0.472423338535221",
         "0.2954582594700148",
         "0.3599681158423756"
        ],
        [
         "151669",
         "0.3790554026269662",
         "0.2304247383994078",
         "0.594266717248296",
         "0.3252895550235149",
         "0.2640619056844237"
        ],
        [
         "151670",
         "0.4132955093317564",
         "0.4008503998027939",
         "0.6913019616485322",
         "0.4056893551456335",
         "0.3200215830405715"
        ],
        [
         "151671",
         "0.5904741440562934",
         "0.3738493428057687",
         "0.6122791321630573",
         "0.3752716298662173",
         "0.3147211223388746"
        ],
        [
         "151672",
         "0.4278197287655633",
         "0.3827242456927858",
         "0.6452740812210832",
         "0.2894988878973378",
         "0.3646478116262882"
        ],
        [
         "151673",
         "0.5486707165752656",
         "0.2877289764831583",
         "0.6333581363961287",
         "0.4209697145480212",
         "0.3076936909567738"
        ],
        [
         "151674",
         "0.1920473521570466",
         "0.4051101072493547",
         "0.6144703548230145",
         "0.2930291706689454",
         "0.2548690651492532"
        ],
        [
         "151675",
         "0.3753513288449958",
         "0.4414899884273712",
         "0.6472682445081371",
         "0.3514427393677122",
         "0.3564518489648097"
        ],
        [
         "151676",
         "0.5834864194623061",
         "0.3553213423846253",
         "0.5819254421928448",
         "0.303161472258746",
         "0.3359250552311464"
        ]
       ],
       "shape": {
        "columns": 5,
        "rows": 12
       }
      },
      "text/html": [
       "<div>\n",
       "<style scoped>\n",
       "    .dataframe tbody tr th:only-of-type {\n",
       "        vertical-align: middle;\n",
       "    }\n",
       "\n",
       "    .dataframe tbody tr th {\n",
       "        vertical-align: top;\n",
       "    }\n",
       "\n",
       "    .dataframe thead th {\n",
       "        text-align: right;\n",
       "    }\n",
       "</style>\n",
       "<table border=\"1\" class=\"dataframe\">\n",
       "  <thead>\n",
       "    <tr style=\"text-align: right;\">\n",
       "      <th></th>\n",
       "      <th>BayesSpace</th>\n",
       "      <th>conGI</th>\n",
       "      <th>graphST</th>\n",
       "      <th>Louvain</th>\n",
       "      <th>stkeep</th>\n",
       "    </tr>\n",
       "  </thead>\n",
       "  <tbody>\n",
       "    <tr>\n",
       "      <th>151507</th>\n",
       "      <td>0.512158</td>\n",
       "      <td>0.178865</td>\n",
       "      <td>0.433468</td>\n",
       "      <td>0.330929</td>\n",
       "      <td>0.394698</td>\n",
       "    </tr>\n",
       "    <tr>\n",
       "      <th>151508</th>\n",
       "      <td>0.364663</td>\n",
       "      <td>0.401964</td>\n",
       "      <td>0.495838</td>\n",
       "      <td>0.339939</td>\n",
       "      <td>0.411265</td>\n",
       "    </tr>\n",
       "    <tr>\n",
       "      <th>151509</th>\n",
       "      <td>0.468228</td>\n",
       "      <td>0.236524</td>\n",
       "      <td>0.465589</td>\n",
       "      <td>0.214669</td>\n",
       "      <td>0.160962</td>\n",
       "    </tr>\n",
       "    <tr>\n",
       "      <th>151510</th>\n",
       "      <td>0.468465</td>\n",
       "      <td>0.265238</td>\n",
       "      <td>0.472423</td>\n",
       "      <td>0.295458</td>\n",
       "      <td>0.359968</td>\n",
       "    </tr>\n",
       "    <tr>\n",
       "      <th>151669</th>\n",
       "      <td>0.379055</td>\n",
       "      <td>0.230425</td>\n",
       "      <td>0.594267</td>\n",
       "      <td>0.325290</td>\n",
       "      <td>0.264062</td>\n",
       "    </tr>\n",
       "    <tr>\n",
       "      <th>151670</th>\n",
       "      <td>0.413296</td>\n",
       "      <td>0.400850</td>\n",
       "      <td>0.691302</td>\n",
       "      <td>0.405689</td>\n",
       "      <td>0.320022</td>\n",
       "    </tr>\n",
       "    <tr>\n",
       "      <th>151671</th>\n",
       "      <td>0.590474</td>\n",
       "      <td>0.373849</td>\n",
       "      <td>0.612279</td>\n",
       "      <td>0.375272</td>\n",
       "      <td>0.314721</td>\n",
       "    </tr>\n",
       "    <tr>\n",
       "      <th>151672</th>\n",
       "      <td>0.427820</td>\n",
       "      <td>0.382724</td>\n",
       "      <td>0.645274</td>\n",
       "      <td>0.289499</td>\n",
       "      <td>0.364648</td>\n",
       "    </tr>\n",
       "    <tr>\n",
       "      <th>151673</th>\n",
       "      <td>0.548671</td>\n",
       "      <td>0.287729</td>\n",
       "      <td>0.633358</td>\n",
       "      <td>0.420970</td>\n",
       "      <td>0.307694</td>\n",
       "    </tr>\n",
       "    <tr>\n",
       "      <th>151674</th>\n",
       "      <td>0.192047</td>\n",
       "      <td>0.405110</td>\n",
       "      <td>0.614470</td>\n",
       "      <td>0.293029</td>\n",
       "      <td>0.254869</td>\n",
       "    </tr>\n",
       "    <tr>\n",
       "      <th>151675</th>\n",
       "      <td>0.375351</td>\n",
       "      <td>0.441490</td>\n",
       "      <td>0.647268</td>\n",
       "      <td>0.351443</td>\n",
       "      <td>0.356452</td>\n",
       "    </tr>\n",
       "    <tr>\n",
       "      <th>151676</th>\n",
       "      <td>0.583486</td>\n",
       "      <td>0.355321</td>\n",
       "      <td>0.581925</td>\n",
       "      <td>0.303161</td>\n",
       "      <td>0.335925</td>\n",
       "    </tr>\n",
       "  </tbody>\n",
       "</table>\n",
       "</div>"
      ],
      "text/plain": [
       "        BayesSpace     conGI   graphST   Louvain    stkeep\n",
       "151507    0.512158  0.178865  0.433468  0.330929  0.394698\n",
       "151508    0.364663  0.401964  0.495838  0.339939  0.411265\n",
       "151509    0.468228  0.236524  0.465589  0.214669  0.160962\n",
       "151510    0.468465  0.265238  0.472423  0.295458  0.359968\n",
       "151669    0.379055  0.230425  0.594267  0.325290  0.264062\n",
       "151670    0.413296  0.400850  0.691302  0.405689  0.320022\n",
       "151671    0.590474  0.373849  0.612279  0.375272  0.314721\n",
       "151672    0.427820  0.382724  0.645274  0.289499  0.364648\n",
       "151673    0.548671  0.287729  0.633358  0.420970  0.307694\n",
       "151674    0.192047  0.405110  0.614470  0.293029  0.254869\n",
       "151675    0.375351  0.441490  0.647268  0.351443  0.356452\n",
       "151676    0.583486  0.355321  0.581925  0.303161  0.335925"
      ]
     },
     "execution_count": 26,
     "metadata": {},
     "output_type": "execute_result"
    }
   ],
   "source": [
    "val_df"
   ]
  },
  {
   "cell_type": "markdown",
   "id": "c64386bb",
   "metadata": {},
   "source": [
    "Guardamos el dataframe con los resultados de ARI en cada corte sobre cada método."
   ]
  },
  {
   "cell_type": "code",
   "execution_count": null,
   "id": "20ddc62d",
   "metadata": {},
   "outputs": [],
   "source": [
    "val_df.to_csv(r\"...\\DLPFC\\resultado_validacion.csv\", sep= \";\")"
   ]
  },
  {
   "cell_type": "markdown",
   "id": "f316174f",
   "metadata": {},
   "source": [
    "Apicamos un test de normalidad sobre los datos."
   ]
  },
  {
   "cell_type": "code",
   "execution_count": null,
   "id": "f12f05f1",
   "metadata": {},
   "outputs": [
    {
     "name": "stdout",
     "output_type": "stream",
     "text": [
      "Test de normalidad (Shapiro-Wilk):\n",
      "\n",
      "BayesSpace: estadístico=0.9366, p-valor=0.4558\n",
      "  -> Parece seguir una distribución normal (no se rechaza H0)\n",
      "\n",
      "conGI: estadístico=0.9094, p-valor=0.2095\n",
      "  -> Parece seguir una distribución normal (no se rechaza H0)\n",
      "\n",
      "graphST: estadístico=0.9031, p-valor=0.1741\n",
      "  -> Parece seguir una distribución normal (no se rechaza H0)\n",
      "\n",
      "Louvain: estadístico=0.9647, p-valor=0.8485\n",
      "  -> Parece seguir una distribución normal (no se rechaza H0)\n",
      "\n",
      "stkeep: estadístico=0.9301, p-valor=0.3816\n",
      "  -> Parece seguir una distribución normal (no se rechaza H0)\n",
      "\n"
     ]
    }
   ],
   "source": [
    "# Cargar tu dataframe\n",
    "val_df = pd.read_csv(\".../DLPFC/resultado_validacion.csv\", sep=\";\", index_col=0)\n",
    "\n",
    "# Aplicar el test de Shapiro-Wilk a cada algoritmo\n",
    "print(\"Test de normalidad (Shapiro-Wilk):\\n\")\n",
    "for col in val_df.columns:\n",
    "    stat, p = shapiro(val_df[col])\n",
    "    print(f\"{col}: estadístico={stat:.4f}, p-valor={p:.4f}\")\n",
    "    if p > 0.05:\n",
    "        print(f\"  -> Parece seguir una distribución normal (no se rechaza H0)\\n\")\n",
    "    else:\n",
    "        print(f\"  -> No parece seguir una distribución normal (se rechaza H0)\\n\")\n"
   ]
  },
  {
   "cell_type": "markdown",
   "id": "8ce548eb",
   "metadata": {},
   "source": [
    "Aplicamos el estadístico ANOVA, para observar diferencias globales entre las variables. "
   ]
  },
  {
   "cell_type": "code",
   "execution_count": 3,
   "id": "5cbf0e93",
   "metadata": {},
   "outputs": [
    {
     "name": "stdout",
     "output_type": "stream",
     "text": [
      "             sum_sq    df          F        PR(>F)\n",
      "C(Método)  0.581570   4.0  20.786789  1.757460e-10\n",
      "Residual   0.384696  55.0        NaN           NaN\n"
     ]
    }
   ],
   "source": [
    "# Reordenamos las columnas: \n",
    "val_df = val_df[[\"Louvain\", \"BayesSpace\", \"conGI\", \"graphST\", \"stkeep\"]]\n",
    "# Transformar a formato largo para ANOVA y Tukey\n",
    "df_long = val_df.melt(var_name=\"Método\", value_name=\"ARI\")\n",
    "\n",
    "# Como siguen la normalidad, aplicamos ANOVA para comprobar si existen diferencias globales. \n",
    "modelo = ols('ARI ~ C(Método)', data=df_long).fit()\n",
    "anova_table = sm.stats.anova_lm(modelo, typ=2)\n",
    "print(anova_table)"
   ]
  },
  {
   "cell_type": "markdown",
   "id": "ecd32384",
   "metadata": {},
   "source": [
    "Como se cumple la Hipótesis Nula, podemos aplicar el estadístico pareado Tukey para estudiar diferencias entre pares."
   ]
  },
  {
   "cell_type": "code",
   "execution_count": 4,
   "id": "0e9b15cf",
   "metadata": {},
   "outputs": [
    {
     "name": "stdout",
     "output_type": "stream",
     "text": [
      "   Multiple Comparison of Means - Tukey HSD, FWER=0.05   \n",
      "=========================================================\n",
      "  group1    group2 meandiff p-adj   lower   upper  reject\n",
      "---------------------------------------------------------\n",
      "BayesSpace Louvain  -0.1149 0.0118 -0.2112 -0.0186   True\n",
      "BayesSpace   conGI  -0.1136  0.013 -0.2099 -0.0173   True\n",
      "BayesSpace graphST   0.1303 0.0031   0.034  0.2266   True\n",
      "BayesSpace  stkeep  -0.1232 0.0058 -0.2195 -0.0269   True\n",
      "   Louvain   conGI   0.0012    1.0 -0.0951  0.0975  False\n",
      "   Louvain graphST   0.2452    0.0  0.1489  0.3415   True\n",
      "   Louvain  stkeep  -0.0083 0.9992 -0.1046   0.088  False\n",
      "     conGI graphST   0.2439    0.0  0.1477  0.3402   True\n",
      "     conGI  stkeep  -0.0096 0.9986 -0.1059  0.0867  False\n",
      "   graphST  stkeep  -0.2535    0.0 -0.3498 -0.1572   True\n",
      "---------------------------------------------------------\n"
     ]
    }
   ],
   "source": [
    "# Test de Tukey HSD\n",
    "tukey = pairwise_tukeyhsd(endog=df_long['ARI'], groups=df_long['Método'], alpha=0.05)\n",
    "print(tukey)"
   ]
  },
  {
   "cell_type": "markdown",
   "id": "0a1c50e5",
   "metadata": {},
   "source": [
    "Finalmente, mostramos un diagrama de Box-Whisker"
   ]
  },
  {
   "cell_type": "code",
   "execution_count": null,
   "id": "92e48046",
   "metadata": {},
   "outputs": [
    {
     "name": "stderr",
     "output_type": "stream",
     "text": [
      "C:\\Users\\pcastillor\\AppData\\Local\\Temp\\ipykernel_91932\\2531116925.py:17: FutureWarning: \n",
      "\n",
      "Passing `palette` without assigning `hue` is deprecated and will be removed in v0.14.0. Assign the `x` variable to `hue` and set `legend=False` for the same effect.\n",
      "\n",
      "  sns.boxplot(data=df_long, x=\"Método\", y=\"ARI\", palette=\"Set2\", width=0.6, fliersize=3)\n"
     ]
    },
    {
     "data": {
      "image/png": "[encoded data removed]",
      "text/plain": [
       "<Figure size 1000x600 with 1 Axes>"
      ]
     },
     "metadata": {},
     "output_type": "display_data"
    }
   ],
   "source": [
    "# Crear un diccionario de significancia\n",
    "signif_dict = {}\n",
    "for res in tukey.summary().data[1:]:\n",
    "    a, b, meandiff, p_adj, lower, upper, reject = res\n",
    "    if p_adj < 0.001:\n",
    "        signif = '***'\n",
    "    elif p_adj < 0.01:\n",
    "        signif = '**'\n",
    "    elif p_adj < 0.05:\n",
    "        signif = '*'\n",
    "    else:\n",
    "        signif = ''\n",
    "    signif_dict[(a, b)] = signif\n",
    "\n",
    "# Visualización\n",
    "plt.figure(figsize=(10, 6))\n",
    "sns.boxplot(data=df_long, x=\"Método\", y=\"ARI\", palette=\"Set2\", width=0.6, fliersize=3)\n",
    "sns.stripplot(data=df_long, x=\"Método\", y=\"ARI\", color='black', size=4, jitter=True, alpha=0.6)\n",
    "\n",
    "# Añadir líneas de significancia\n",
    "y_max = df_long[\"ARI\"].max()\n",
    "y_offset = 0.02\n",
    "plotted = 0\n",
    "for i, (a, b) in enumerate(signif_dict.keys()):\n",
    "    signif = signif_dict[(a, b)]\n",
    "    if signif:\n",
    "        x1, x2 = val_df.columns.get_loc(a), val_df.columns.get_loc(b)\n",
    "        y = y_max + y_offset * (plotted + 1)\n",
    "        plt.plot([x1, x1, x2, x2], [y, y + 0.005, y + 0.005, y], lw=0.6, c='k')\n",
    "        plt.text((x1 + x2) * 0.5, y + 0.001, signif, ha='center', va='bottom', fontsize=10)\n",
    "        plotted += 1\n",
    "\n",
    "plt.title(\"Evaluación de clustering (ARI)\", fontsize=14)\n",
    "plt.ylabel(\"ARI\", fontsize=12)\n",
    "plt.xlabel(\"\")\n",
    "sns.despine()\n",
    "plt.tight_layout()\n",
    "plt.show()"
   ]
  }
 ],
 "metadata": {
  "kernelspec": {
   "display_name": "stKeep",
   "language": "python",
   "name": "python3"
  },
  "language_info": {
   "codemirror_mode": {
    "name": "ipython",
    "version": 3
   },
   "file_extension": ".py",
   "mimetype": "text/x-python",
   "name": "python",
   "nbconvert_exporter": "python",
   "pygments_lexer": "ipython3",
   "version": "3.9.22"
  }
 },
 "nbformat": 4,
 "nbformat_minor": 5
}
