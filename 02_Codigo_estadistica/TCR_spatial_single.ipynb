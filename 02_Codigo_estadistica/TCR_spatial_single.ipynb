{
 "cells": [
  {
   "cell_type": "code",
   "execution_count": 3,
   "id": "364c37ac",
   "metadata": {},
   "outputs": [],
   "source": [
    "import pandas as pd\n",
    "import pandas as pd\n",
    "import re"
   ]
  },
  {
   "cell_type": "code",
   "execution_count": 1,
   "id": "a621300f",
   "metadata": {},
   "outputs": [],
   "source": [
    "paciente_sc = \"PT_28\"\n",
    "ruta_single_cell = r'D:\\Pitagoras\\Spatia_seq\\Dataset\\PITAGORAS\\Datos_Pedro\\Single_cell\\combined_df_sin_orphanVJ_leiden.xlsx'\n",
    "ruta_spatial_TCRs = r\"D:\\Pitagoras\\Spatia_seq\\Dataset\\PITAGORAS\\Datos_Pedro\\Datos_VDJ\\GIN-71-3T-1.clonotypes.TRB.txt\"\n",
    "ruta_pos_counts = r\"D:\\Pitagoras\\Spatia_seq\\Dataset\\PITAGORAS\\Datos_Pedro\\Clonotipos_SPATIAL\\GIN_71_spatial_clonotype_counts\"\n",
    "\n",
    "ruta_pos_matrix_save = ruta_pos_counts + \"_filtered.xlsx\"\n",
    "ruta_tabla = r\"D:\\Pitagoras\\Spatia_seq\\Dataset\\PITAGORAS\\Datos_Pedro\\Clonotipos_SPATIAL\""
   ]
  },
  {
   "cell_type": "code",
   "execution_count": 4,
   "id": "0768b7c2",
   "metadata": {},
   "outputs": [],
   "source": [
    "sc_df = pd.read_excel(ruta_single_cell)"
   ]
  },
  {
   "cell_type": "markdown",
   "id": "7c3d6b41",
   "metadata": {},
   "source": [
    "Quiero modificar el código para obtener un data frame de clonotipo con número de spots en el que aparece y los fenotipos del clonotipo del SingleCell"
   ]
  },
  {
   "cell_type": "code",
   "execution_count": 5,
   "id": "86e79282",
   "metadata": {},
   "outputs": [],
   "source": [
    "spatial_tcr = pd.read_table(ruta_spatial_TCRs)\n",
    "pos_spatial_tcr = pd.read_table(ruta_pos_counts + '.csv', sep=';')\n",
    "pos_spatial_tcr.set_index('Barcodes', inplace=True)\n",
    "# sc_df = sc_df[sc_df['sample'] == paciente_sc]\n",
    "# En ocsaoines tenemos clones con clone_id distinto que se repiten. \n",
    "# Tenemos que juntar los clones. \n",
    "numeric_cols = spatial_tcr.select_dtypes(include=\"number\").columns\n",
    "spatial_tcr['cloneId'] = [f'clone{ID}' for ID in spatial_tcr['cloneId'].values]\n",
    "spatial_tcr_f = spatial_tcr.groupby([\"nSeqCDR3\", \"aaSeqCDR3\"])[numeric_cols].sum().reset_index()\n",
    "\n",
    "spatial_tcr_f['cloneId'] = spatial_tcr_f['cloneId'].apply(lambda x: re.findall(r'clone\\d+', x)[0])\n",
    "\n",
    "# Data frame de los clones de spatial que se repiten en el single cell, con su anotación celular.\n",
    "vdj_sc = sc_df[\n",
    "              (sc_df['beta_1_junction'].isin(spatial_tcr_f['nSeqCDR3']) | (sc_df['beta_2_junction'].isin(spatial_tcr_f['nSeqCDR3'])))\n",
    "              ][['beta_1_junction', 'beta_2_junction', 'Celltypist', 'leiden_names', 'ATLAS_TIL_KNN']]\n",
    "\n",
    "# Como en GIN_63_spatial_clonotype_counts las columnas son cloneX y sólo queremos el número...\n",
    "# pos_spatial_tcr.columns = resultado = ['Barcodes' if s == 'Barcodes' else int(s.replace('clone', '')) for s in pos_spatial_tcr]\n",
    "\n",
    "# Creamos un diccionario para búsqueda rápida: {nSeqCDR3: cloneId}\n",
    "cdr3_to_clone = dict(zip(spatial_tcr_f['nSeqCDR3'], spatial_tcr_f['cloneId']))\n",
    "\n",
    "# Función que busca si beta_1 o beta_2 están en el diccionario y devuelve cloneId (o NaN)\n",
    "def buscar_clone_id_beta1(row):\n",
    "    beta = row['beta_1_junction']\n",
    "    return cdr3_to_clone.get(beta)\n",
    "\n",
    "def buscar_clone_id_beta2(row):\n",
    "    beta = row['beta_2_junction']\n",
    "    return cdr3_to_clone.get(beta)\n",
    "\n",
    "# Aplicamos la función al DataFrame grande\n",
    "vdj_sc['cloneId_beta1'] = vdj_sc.apply(buscar_clone_id_beta1, axis=1)\n",
    "vdj_sc['cloneId_beta2'] = vdj_sc.apply(buscar_clone_id_beta2, axis=1)\n",
    "\n",
    "# Ahora quiero mirar si en vdj hay CD4s y CD8s para poder pasarlo al dataframe pos_spatial_tcr \n",
    "# pos_spatial_tcr.set_index(keys='Barcodes', inplace=True) # Resustituyo el barcode como índice\n",
    "# Como hay que unificar los clonotipos de TCR tanto del single como del Spatial\n",
    "TCRs_single, TCRs_spatial = pd.concat([vdj_sc['cloneId_beta1'], vdj_sc['cloneId_beta2']]).dropna().unique(), pos_spatial_tcr.columns\n",
    "\n",
    "cloneID = TCRs_single\n",
    "clone_df = pd.DataFrame(0, index=cloneID, columns= vdj_sc['leiden_names'].unique())\n",
    "for ID in cloneID:\n",
    "    counts = vdj_sc.loc[(vdj_sc['cloneId_beta1'] == ID) | (vdj_sc['cloneId_beta2'] == ID)]['leiden_names'].value_counts()\n",
    "    clone_df.loc[ID, counts.index] = counts.values"
   ]
  },
  {
   "cell_type": "code",
   "execution_count": 6,
   "id": "50d09d8a",
   "metadata": {},
   "outputs": [],
   "source": [
    "clone_df.to_excel(ruta_tabla + '/tabla_counts.xlsx')"
   ]
  },
  {
   "cell_type": "markdown",
   "id": "97c044d6",
   "metadata": {},
   "source": [
    "Quiero hacer la relación de los clones que están en el spatial y en el single"
   ]
  },
  {
   "cell_type": "code",
   "execution_count": 7,
   "id": "196da49c",
   "metadata": {},
   "outputs": [
    {
     "name": "stderr",
     "output_type": "stream",
     "text": [
      "C:\\Users\\pcastillor\\AppData\\Local\\Temp\\ipykernel_93300\\2079515705.py:20: FutureWarning: DataFrame.groupby with axis=1 is deprecated. Do `frame.T.groupby(...)` without axis instead.\n",
      "  pos_spatial_tcr = pos_spatial_tcr.groupby(level=0, axis=1).sum()\n"
     ]
    }
   ],
   "source": [
    "spatial_tcr = pd.read_table(ruta_spatial_TCRs)\n",
    "pos_spatial_tcr = pd.read_table(ruta_pos_counts + '.csv', sep=';').set_index('Barcodes')\n",
    "\n",
    "numeric_cols = spatial_tcr.select_dtypes(include=\"number\").columns\n",
    "spatial_tcr['cloneId'] = [f'clone{ID}' for ID in spatial_tcr['cloneId'].values]\n",
    "spatial_tcr_f = spatial_tcr.groupby([\"nSeqCDR3\", \"aaSeqCDR3\"])[numeric_cols].sum().reset_index()\n",
    "\n",
    "full_mapping = dict(zip(spatial_tcr['cloneId'], spatial_tcr['nSeqCDR3']))\n",
    "\n",
    "# Filtrar el diccionario para que solo tenga claves que están como columnas en pos_spatial_tcr\n",
    "valid_mapping = {k: v for k, v in full_mapping.items() if k in pos_spatial_tcr.columns}\n",
    "\n",
    "# Filtrar el DataFrame para mantener solo las columnas que están en el mapping\n",
    "pos_spatial_tcr = pos_spatial_tcr[list(valid_mapping.keys())]\n",
    "\n",
    "# Renombrar las columnas\n",
    "pos_spatial_tcr = pos_spatial_tcr.rename(columns=valid_mapping)\n",
    "\n",
    "# Agrupar columnas duplicadas (mismo nSeqCDR3) y sumarlas por fila\n",
    "pos_spatial_tcr = pos_spatial_tcr.groupby(level=0, axis=1).sum()\n",
    "\n",
    "# Crear el diccionario inverso {nSeqCDR3: primer cloneId que aparece}\n",
    "reverse_mapping = (\n",
    "    spatial_tcr.drop_duplicates(subset='nSeqCDR3', keep='first')\n",
    "    .set_index('nSeqCDR3')['cloneId']\n",
    "    .to_dict()\n",
    ")\n",
    "\n",
    "# Filtrar el mapping para las columnas actuales\n",
    "reverse_mapping = {col: reverse_mapping[col] for col in pos_spatial_tcr.columns if col in reverse_mapping}\n",
    "\n",
    "# Renombrar columnas\n",
    "pos_spatial_tcr = pos_spatial_tcr.rename(columns=reverse_mapping)"
   ]
  },
  {
   "cell_type": "code",
   "execution_count": 8,
   "id": "68cae55d",
   "metadata": {},
   "outputs": [],
   "source": [
    "pos_spatial_tcr.to_excel(ruta_pos_matrix_save)"
   ]
  },
  {
   "cell_type": "markdown",
   "id": "1da94a50",
   "metadata": {},
   "source": [
    "Cambiamos la estrategia a la de arriba\n"
   ]
  },
  {
   "cell_type": "code",
   "execution_count": null,
   "id": "18abe565",
   "metadata": {},
   "outputs": [],
   "source": [
    "spatial_tcr = pd.read_table(ruta_spatial_TCRs)\n",
    "pos_spatial_tcr = pd.read_table(ruta_pos_counts, index_col= False)\n",
    "\n",
    "# sc_df = sc_df[sc_df['sample'] == paciente_sc]\n",
    "# En ocsaoines tenemos clones con clone_id distinto que se repiten. \n",
    "# Tenemos que juntar los clones. \n",
    "numeric_cols = spatial_tcr.select_dtypes(include=\"number\").columns\n",
    "spatial_tcr['cloneId'] = [f'clone{ID}' for ID in spatial_tcr['cloneId'].values]\n",
    "spatial_tcr_f = spatial_tcr.groupby([\"nSeqCDR3\", \"aaSeqCDR3\", \"cloneId\"])[numeric_cols].sum().reset_index()\n",
    "\n",
    "# Data frame de los clones de spatial que se repiten en el single cell, con su anotación celular.\n",
    "vdj_sc = sc_df[\n",
    "              (sc_df['beta_1_junction'].isin(spatial_tcr_f['nSeqCDR3']) | (sc_df['beta_2_junction'].isin(spatial_tcr_f['nSeqCDR3'])))\n",
    "              ][['beta_1_junction', 'beta_2_junction', 'Celltypist', 'leiden_names', 'ATLAS_TIL_KNN']]\n",
    "\n",
    "# Como en GIN_63_spatial_clonotype_counts las columnas son cloneX y sólo queremos el número...\n",
    "pos_spatial_tcr.columns = resultado = ['Barcodes' if s == 'Barcodes' else int(s.replace('clone', '')) for s in pos_spatial_tcr]\n",
    "\n",
    "# Creamos un diccionario para búsqueda rápida: {nSeqCDR3: cloneId}\n",
    "cdr3_to_clone = dict(zip(spatial_tcr_f['nSeqCDR3'], spatial_tcr_f['cloneId']))\n",
    "\n",
    "# Función que busca si beta_1 o beta_2 están en el diccionario y devuelve cloneId (o NaN)\n",
    "def buscar_clone_id_beta1(row):\n",
    "    beta = row['beta_1_junction']\n",
    "    return cdr3_to_clone.get(beta)\n",
    "\n",
    "def buscar_clone_id_beta2(row):\n",
    "    beta = row['beta_2_junction']\n",
    "    return cdr3_to_clone.get(beta)\n",
    "\n",
    "# Aplicamos la función al DataFrame grande\n",
    "vdj_sc['cloneId_beta1'] = vdj_sc.apply(buscar_clone_id_beta1, axis=1)\n",
    "vdj_sc['cloneId_beta2'] = vdj_sc.apply(buscar_clone_id_beta2, axis=1)\n",
    "\n",
    "# Ahora quiero mirar si en vdj hay CD4s y CD8s para poder pasarlo al dataframe pos_spatial_tcr \n",
    "pos_spatial_tcr.set_index(keys='Barcodes', inplace=True) # Resustituyo el barcode como índice\n",
    "# Como hay que unificar los clonotipos de TCR tanto del single como del Spatial\n",
    "TCRs_single, TCRs_spatial = pd.concat([vdj_sc['cloneId_beta1'], vdj_sc['cloneId_beta2']]).dropna().unique(), pos_spatial_tcr.columns\n",
    "TCRs_shared = TCRs_spatial.intersection(TCRs_single) # Estos son los TCRs compartidos\n",
    "\n",
    "pos_spatial_tcr_f = pos_spatial_tcr[TCRs_shared] # Filtramos por los clones que aparecen en el archivo .txt\n",
    "\n",
    "# Ahora cambiamos el nombre de la columna según su tipo celular CD4/CD8\n",
    "cloneID = pos_spatial_tcr_f.columns\n",
    "pos_spatial_ct = pos_spatial_tcr_f.copy()\n",
    "for ID in cloneID:\n",
    "    sts = vdj_sc.loc[(vdj_sc['cloneId_beta1'] == ID) | (vdj_sc['cloneId_beta2'] == ID)]['leiden_names'].describe().top\n",
    "    try:\n",
    "        cell_type = sts.split(sep='.')[0]\n",
    "    except:\n",
    "        cell_type = sts.split(sep='_')[0]\n",
    "    \n",
    "    pos_spatial_ct = pos_spatial_ct.rename(columns={ID:f'clone{ID}-'+cell_type})\n"
   ]
  },
  {
   "cell_type": "code",
   "execution_count": null,
   "id": "d3df9527",
   "metadata": {},
   "outputs": [],
   "source": [
    "pos_spatial_ct.to_excel(ruta_pos_counts_save)"
   ]
  }
 ],
 "metadata": {
  "kernelspec": {
   "display_name": "master",
   "language": "python",
   "name": "python3"
  },
  "language_info": {
   "codemirror_mode": {
    "name": "ipython",
    "version": 3
   },
   "file_extension": ".py",
   "mimetype": "text/x-python",
   "name": "python",
   "nbconvert_exporter": "python",
   "pygments_lexer": "ipython3",
   "version": "3.10.18"
  }
 },
 "nbformat": 4,
 "nbformat_minor": 5
}
